{
 "cells": [
  {
   "cell_type": "code",
   "execution_count": 3,
   "metadata": {},
   "outputs": [],
   "source": [
    "#Import Tools\n",
    "import networkx as nx\n",
    "import matplotlib.pyplot as plt\n",
    "import numpy as np\n",
    "import json\n",
    "import requests\n",
    "import openpyxl"
   ]
  },
  {
   "cell_type": "code",
   "execution_count": 39,
   "metadata": {},
   "outputs": [
    {
     "name": "stdout",
     "output_type": "stream",
     "text": [
      "(('V0', 'WO0'), ('V1', 'WO0'), ('V2', 'WO2'))\n"
     ]
    }
   ],
   "source": [
    "#retrieve connections under radius=x\n",
    "url = \"https://raw.githubusercontent.com/erengozdeanil/UF-DecisionMaker/main/Edges.txt\"\n",
    "resp = requests.get(url)\n",
    "edges = json.loads(resp.text)\n",
    "#converts nested lists into a list of tuples\n",
    "edges = [tuple(i) for i in edges]\n",
    "print(tuple(edges))"
   ]
  },
  {
   "cell_type": "code",
   "execution_count": 21,
   "metadata": {},
   "outputs": [
    {
     "name": "stdout",
     "output_type": "stream",
     "text": [
      "{'V1': {'tag': 'V1', 'building': 'BK', 'size': 3, 'loc_building': 'roof', 'orientation': 'SW', 'node_type': 'vacant', 'structure': 1, 'solar': 3}, 'V2': {'tag': 'V2', 'building': 'AA', 'size': 1, 'loc_building': 'outside', 'orientation': 'SE', 'node_type': 'vacant', 'solar': 3}, 'V3': {'tag': 'V3', 'building': 'BB', 'size': 2, 'loc_building': 'ground', 'orientation': 'S', 'node_type': 'vacant', 'solar': 3}, 'V4': {'tag': 'V4', 'building': 'CEG', 'size': 2, 'loc_building': 'basement', 'orientation': 'NE', 'node_type': 'vacant', 'structure': 3, 'solar': 1}, 'V5': {'tag': 'V5', 'building': 'TAG', 'size': 1, 'loc_building': 'intermediate', 'orientation': 'NW', 'node_type': 'vacant', 'solar': 1}, 'V6': {'tag': 'V6', 'building': 'BK', 'size': 3, 'loc_building': 'roof', 'orientation': 'SW', 'node_type': 'vacant', 'structure': 1, 'solar': 3}, 'V7': {'tag': 'V7', 'building': 'AA', 'size': 2, 'loc_building': 'outside', 'orientation': 'SE', 'node_type': 'vacant', 'solar': 3}, 'V8': {'tag': 'V8', 'building': 'BB', 'size': 2, 'loc_building': 'ground', 'orientation': 'S', 'node_type': 'vacant', 'solar': 3}, 'V9': {'tag': 'V9', 'building': 'CEG', 'size': 1, 'loc_building': 'basement', 'orientation': 'NE', 'node_type': 'vacant', 'structure': 3, 'solar': 1}, 'V10': {'tag': 'V10', 'building': 'TAG', 'size': 1, 'loc_building': 'intermediate', 'orientation': 'NW', 'node_type': 'vacant', 'solar': 1}, 'V11': {'tag': 'V11', 'building': 'BK', 'size': 3, 'loc_building': 'roof', 'orientation': 'SW', 'node_type': 'vacant', 'structure': 1, 'solar': 3}, 'V12': {'tag': 'V12', 'building': 'AA', 'size': 3, 'loc_building': 'outside', 'orientation': 'SE', 'node_type': 'vacant', 'solar': 3}, 'V13': {'tag': 'V13', 'building': 'BB', 'size': 2, 'loc_building': 'ground', 'orientation': 'S', 'node_type': 'vacant', 'solar': 3}, 'V14': {'tag': 'V14', 'building': 'CEG', 'size': 1, 'loc_building': 'basement', 'orientation': 'NE', 'node_type': 'vacant', 'structure': 3, 'solar': 1}, 'V15': {'tag': 'V15', 'building': 'TAG', 'size': 2, 'loc_building': 'intermediate', 'orientation': 'NW', 'node_type': 'vacant', 'solar': 1}, 'V16': {'tag': 'V16', 'building': 'LOL', 'size': 3, 'loc_building': 'ground', 'orientation': 'N', 'node_type': 'vacant', 'solar': 1}}\n"
     ]
    }
   ],
   "source": [
    "#retrieve data regarding vacant spaces\n",
    "from openpyxl import load_workbook\n",
    "workbook = load_workbook(filename=\"vacant spaces.xlsx\")\n",
    "workbook.sheetnames\n",
    "sheet = workbook.active\n",
    "sheet\n",
    "\n",
    "#create dictionary based on excel worksheet\n",
    "vacant_spaces={}\n",
    "for value in sheet.iter_rows(min_row=2, values_only=True):\n",
    "    for index,item in enumerate(value):\n",
    "        vacant_spaces[value[0]]={}\n",
    "        vacant_spaces[value[0]][\"tag\"]=value[1]\n",
    "        vacant_spaces[value[0]][\"building\"]=value[2]\n",
    "        vacant_spaces[value[0]][\"size\"]=value[3]\n",
    "        vacant_spaces[value[0]][\"loc_building\"]=value[4]\n",
    "        vacant_spaces[value[0]][\"orientation\"]=value[5]\n",
    "        vacant_spaces[value[0]][\"node_type\"]=value[6]\n",
    "\n",
    "#interpret data\n",
    "#Rules:\n",
    "#structure (roof:1,ground:3,outside:3,basement:3,intermediate:2)\n",
    "#solar (roof:3,\n",
    "#       basement:1\n",
    "#       ground & S,SW,SE:3,\n",
    "#       ground $ E,W:2\n",
    "#       ground $ N,NE,NW:1\n",
    "#       outside & S,SW,SE:3,\n",
    "#       outside $ E,W:2\n",
    "#       outside $ N,NE,NW:1\n",
    "#       intermediate & S,SW,SE:3,\n",
    "#       intermediate & E,W:2\n",
    "#       intermediate & N,NE,NW:1\n",
    "\n",
    "for space in vacant_spaces:\n",
    "    if vacant_spaces[space][\"loc_building\"]==\"roof\":\n",
    "        vacant_spaces[space][\"structure\"]=1\n",
    "        vacant_spaces[space][\"solar\"]=3\n",
    "    if vacant_spaces[space][\"loc_building\"]==\"basement\":\n",
    "        vacant_spaces[space][\"structure\"]=3\n",
    "        vacant_spaces[space][\"solar\"]=1\n",
    "    if (vacant_spaces[space][\"loc_building\"]==\"ground\") and (((vacant_spaces[space][\"orientation\"])==\"S\") or ((vacant_spaces[space][\"orientation\"])==\"SE\") or ((vacant_spaces[space][\"orientation\"])==\"SW\")):\n",
    "        vacant_spaces[space][\"solar\"]=3\n",
    "    if (vacant_spaces[space][\"loc_building\"]==\"ground\") and (((vacant_spaces[space][\"orientation\"])==\"N\") or ((vacant_spaces[space][\"orientation\"])==\"NE\") or ((vacant_spaces[space][\"orientation\"])==\"NW\")):\n",
    "        vacant_spaces[space][\"solar\"]=1\n",
    "    if (vacant_spaces[space][\"loc_building\"]==\"ground\") and (((vacant_spaces[space][\"orientation\"])==\"E\") or ((vacant_spaces[space][\"orientation\"])==\"W\")):\n",
    "        vacant_spaces[space][\"solar\"]=2\n",
    "    if (vacant_spaces[space][\"loc_building\"]==\"intermediate\") and (((vacant_spaces[space][\"orientation\"])==\"S\") or ((vacant_spaces[space][\"orientation\"])==\"SE\") or ((vacant_spaces[space][\"orientation\"])==\"SW\")):\n",
    "        vacant_spaces[space][\"solar\"]=3\n",
    "    if (vacant_spaces[space][\"loc_building\"]==\"intermediate\") and (((vacant_spaces[space][\"orientation\"])==\"N\") or ((vacant_spaces[space][\"orientation\"])==\"NE\") or ((vacant_spaces[space][\"orientation\"])==\"NW\")):\n",
    "        vacant_spaces[space][\"solar\"]=1\n",
    "    if (vacant_spaces[space][\"loc_building\"]==\"intermediate\") and (((vacant_spaces[space][\"orientation\"])==\"E\") or ((vacant_spaces[space][\"orientation\"])==\"W\")):\n",
    "        vacant_spaces[space][\"solar\"]=2\n",
    "    if (vacant_spaces[space][\"loc_building\"]==\"outside\") and (((vacant_spaces[space][\"orientation\"])==\"S\") or ((vacant_spaces[space][\"orientation\"])==\"SE\") or ((vacant_spaces[space][\"orientation\"])==\"SW\")):\n",
    "        vacant_spaces[space][\"solar\"]=3\n",
    "    if (vacant_spaces[space][\"loc_building\"]==\"outside\") and (((vacant_spaces[space][\"orientation\"])==\"N\") or ((vacant_spaces[space][\"orientation\"])==\"NE\") or ((vacant_spaces[space][\"orientation\"])==\"NW\")):\n",
    "        vacant_spaces[space][\"solar\"]=1\n",
    "    if (vacant_spaces[space][\"loc_building\"]==\"outside\") and (((vacant_spaces[space][\"orientation\"])==\"E\") or ((vacant_spaces[space][\"orientation\"])==\"W\")):\n",
    "        vacant_spaces[space][\"solar\"]=2\n",
    "    \n",
    "\n",
    "print(vacant_spaces)        "
   ]
  },
  {
   "cell_type": "code",
   "execution_count": null,
   "metadata": {},
   "outputs": [],
   "source": [
    "for value in sheet.iter_rows(min_row=3,\n",
    "                             min_col=6,\n",
    "                             values_only=True):\n",
    "    if value[3] != None and value[1] != None and value[2] != None:\n",
    "        new_value=[int(value[2]), value[1], value[0], int(int(value[3])/9), value[4]]\n",
    "        if new_value[2]==\"Shop\":\n",
    "            new_value[2]=\"1\"\n",
    "        elif new_value[2]==\"Workshop\":\n",
    "            new_value[2]=\"3\"\n",
    "        elif new_value[2]==\"Both shop and workshop\":\n",
    "            new_value[2]=\"2\"\n",
    "        if new_value[1]==\"Daily\":\n",
    "            new_value[1]=\"D\"\n",
    "        elif new_value[1]==\"Monthly\":\n",
    "            new_value[1]=\"M\"\n",
    "        elif new_value[1]==\"Occationally\":\n",
    "            new_value[1]=\"O\"\n",
    "    \n",
    "        p_list.append(tuple(new_value))"
   ]
  }
 ],
 "metadata": {
  "interpreter": {
   "hash": "ceab667343e9d59e560dc535b596d8ce99779dfe6a9fc32021184bc08a53fa46"
  },
  "kernelspec": {
   "display_name": "Python 3.8.5 ('earthy')",
   "language": "python",
   "name": "python3"
  },
  "language_info": {
   "codemirror_mode": {
    "name": "ipython",
    "version": 3
   },
   "file_extension": ".py",
   "mimetype": "text/x-python",
   "name": "python",
   "nbconvert_exporter": "python",
   "pygments_lexer": "ipython3",
   "version": "3.8.8"
  },
  "orig_nbformat": 4
 },
 "nbformat": 4,
 "nbformat_minor": 2
}
