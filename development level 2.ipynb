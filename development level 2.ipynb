{
 "cells": [
  {
   "cell_type": "code",
   "execution_count": 38,
   "metadata": {},
   "outputs": [],
   "source": [
    "#Import Tools\n",
    "import networkx as nx\n",
    "import matplotlib.pyplot as plt\n",
    "import numpy as np"
   ]
  },
  {
   "cell_type": "code",
   "execution_count": 39,
   "metadata": {},
   "outputs": [],
   "source": [
    "# Gives adjacency dictionary (not mine)\n",
    "edge_dict={}\n",
    "def create_edge_dict(graph):\n",
    "    for i, n in G.adjacency():\n",
    "        # print(\"i is\",i)\n",
    "        # print(\"n is\",n)\n",
    "        edge_dict[i] = list(n)\n",
    "    return edge_dict\n",
    "\n",
    "# Gives duplicate items in a list (not mine)\n",
    "def list_duplicates(seq):\n",
    "  seen = set()\n",
    "  seen_add = seen.add\n",
    "  # adds all elements it doesn't know yet to seen and all other to seen_twice\n",
    "  seen_twice = set( x for x in seq if x in seen or seen_add(x) )\n",
    "  # turn the set into a list (as requested)\n",
    "  return list( seen_twice )\n",
    "\n",
    "\n",
    "#(https://www.geeksforgeeks.org/python-merge-two-lists-into-list-of-tuples/)\n",
    "def merge(list1, list2):\n",
    "      \n",
    "    merged_list = []\n",
    "    for i in range(max((len(list1), len(list2)))):\n",
    "  \n",
    "        while True:\n",
    "            try:\n",
    "                tup = (list1[i], list2[i])\n",
    "            except IndexError:\n",
    "                if len(list1) > len(list2):\n",
    "                    list2.append('')\n",
    "                    tup = (list1[i], list2[i])\n",
    "                elif len(list1) < len(list2):\n",
    "                    list1.append('')\n",
    "                    tup = (list1[i], list2[i])\n",
    "                continue\n",
    "  \n",
    "            merged_list.append(tup)\n",
    "            break\n",
    "    return merged_list\n",
    "\n",
    "# def neighbors_in_radius(G, radius):\n",
    "#     adj = np.array(nx.linalg.graphmatrix.adjacency_matrix(G).todense()).astype(float)  # much faster as float\n",
    "#     power_adj = connected = adj\n",
    "#     for i in range(radius - 1):\n",
    "#         power_adj = power_adj.dot(adj)\n",
    "#         connected = connected + power_adj\n",
    "#     connected = connected.astype(bool).astype(int)\n",
    "#     return connected"
   ]
  },
  {
   "cell_type": "code",
   "execution_count": 40,
   "metadata": {},
   "outputs": [],
   "source": [
    "#Create dummy data\n",
    "# 8:{\"location\":(0,0),\"tag\":\"WO6\",\"building\":\"BK\",\"size\":2,\"type\":\"W2\"}\n",
    "# 1:{\"location\":(0,0),\"tag\":\"V1\",\"building\":\"BK\",\"size\":3,\"structure\":3,\"solar\":1}\n",
    "\n",
    "vacant_spaces = {\n",
    "\"V1\":{\"location\":(0,1),\"tag\":\"V1\",\"building\":\"BK\",\"size\":3,\"structure\":3,\"solar\":1, \"node_type\":\"vacant\"}, \n",
    "\"V2\":{\"location\":(10,2),\"tag\":\"V2\",\"building\":\"BK\",\"size\":3,\"structure\":3,\"solar\":3, \"node_type\":\"vacant\"},\n",
    "\"V3\":{\"location\":(2,7),\"tag\":\"V3\",\"building\":\"BK\",\"size\":2,\"structure\":3,\"solar\":3, \"node_type\":\"vacant\"},\n",
    "\"V4\":{\"location\":(4,8),\"tag\":\"V4\",\"building\":\"BK\",\"size\":3,\"structure\":1,\"solar\":3, \"node_type\":\"vacant\"},\n",
    "\"V5\":{\"location\":(2,3),\"tag\":\"V5\",\"building\":\"BK\",\"size\":1,\"structure\":1,\"solar\":3, \"node_type\":\"vacant\"},\n",
    "\"V6\":{\"location\":(4,4),\"tag\":\"V6\",\"building\":\"BK\",\"size\":2,\"structure\":2,\"solar\":1, \"node_type\":\"vacant\"}}\n",
    "\n",
    "wastes = {\n",
    "\"WO1\":{\"location\":(0,0),\"tag\":\"WO1\",\"building\":\"BK\",\"size\":3,\"type\":\"W1\", \"node_type\":\"waste\"}, \n",
    "\"WO2\":{\"location\":(8,1),\"tag\":\"WO2\",\"building\":\"BK\",\"size\":3,\"type\":\"W6\", \"node_type\":\"waste\"},\n",
    "\"WO3\":{\"location\":(1,7),\"tag\":\"WO3\",\"building\":\"BK\",\"size\":2,\"type\":\"W4\", \"node_type\":\"waste\"},\n",
    "\"WO4\":{\"location\":(2,6),\"tag\":\"WO4\",\"building\":\"BK\",\"size\":3,\"type\":\"W2\", \"node_type\":\"waste\"},\n",
    "\"WO5\":{\"location\":(4,5),\"tag\":\"WO5\",\"building\":\"BK\",\"size\":1,\"type\":\"W5\", \"node_type\":\"waste\"},\n",
    "\"WO6\":{\"location\":(3,2),\"tag\":\"WO6\",\"building\":\"BK\",\"size\":1,\"type\":\"W5\", \"node_type\":\"waste\"},\n",
    "\"WO7\":{\"location\":(2,4),\"tag\":\"WO7\",\"building\":\"BK\",\"size\":1,\"type\":\"W5\", \"node_type\":\"waste\"},\n",
    "\"WO8\":{\"location\":(10,3),\"tag\":\"WO8\",\"building\":\"BK\",\"size\":1,\"type\":\"W2\", \"node_type\":\"waste\"},\n",
    "\"WO9\":{\"location\":(10,1),\"tag\":\"WO9\",\"building\":\"BK\",\"size\":2,\"type\":\"W2\", \"node_type\":\"waste\"}}\n",
    "\n",
    "nearby_waste = ((\"V1\",\"WO5\"),(\"V1\",\"WO6\"),(\"V1\",\"WO7\"),(\"V1\",\"WO9\"),(\"V3\",\"WO1\"),(\"V3\",\"WO5\"),(\"V4\",\"WO8\"),(\"V4\",\"WO9\"),(\"V1\",\"WO2\"),(\"V6\",\"WO3\"),(\"V6\",\"WO8\"),(\"V6\",\"WO9\"))"
   ]
  },
  {
   "cell_type": "code",
   "execution_count": 41,
   "metadata": {},
   "outputs": [],
   "source": [
    "# Tried to find nearby nodes only using python but it is taking too much time, prototype will instead work with lists provided by grasshopper\n",
    "#  waste_nearby=[]\n",
    "# for i in vacant_spaces:\n",
    "#     for k in wastes:\n",
    "#         tuples=(i,k)\n",
    "#         waste_nearby.append(tuples)\n",
    "# waste_nearby=tuple(waste_nearby)\n",
    "# print(waste_nearby)"
   ]
  },
  {
   "cell_type": "code",
   "execution_count": 42,
   "metadata": {},
   "outputs": [],
   "source": [
    "#Dictionary of urban farming systems\n",
    "    # UF1: Vermiculture, UF2: Aquaculture, UF3: Mushroom, UF4: NFT, UF5: Medai Beds, UF6: Raised Beds, UF7: Water Culture, UF8: Plant Factory, UF9: Aeroponics\n",
    "    # \"S\" : supplementary system, \"F\" : food production system\n",
    "    # 3 : high, 2 : medium, 1 : low, 0 : none\n",
    "uf_systems = {\n",
    "\"UF1\":{\"tag\":\"UF1\",\"type\":\"S\",\"weight\":3,\"solar\":1,\"in\":[\"W1\",\"W2\",\"W3\",\"W6\"],\"supplement\":None,\"out\":[\"S4\",\"S5\"]},\n",
    "\"UF2\":{\"tag\":\"UF2\",\"type\":\"S\",\"weight\":3,\"solar\":2,\"in\":[\"W7\"],\"supplement\":[\"S3\",\"S5\",\"S6\"],\"out\":[\"O4\",\"S2\"]},\n",
    "\"UF3\":{\"tag\":\"UF3\",\"type\":\"F\",\"weight\":2,\"solar\":1,\"in\":[\"W2\",\"W3\",\"W4\",\"W6\"],\"supplement\":[\"S1\"],\"out\":[\"O3\",\"S4\"]},\n",
    "\"UF4\":{\"tag\":\"UF4\",\"type\":\"F\",\"weight\":1,\"solar\":3,\"in\":[\"W5\",\"W6\",\"W7\"],\"supplement\":[\"S2\"],\"out\":[\"O1\",\"W1\"]},\n",
    "\"UF5\":{\"tag\":\"UF5\",\"type\":\"F\",\"weight\":1,\"solar\":3,\"in\":[\"W5\",\"W6\",\"W7\"],\"supplement\":[\"S2\"],\"out\":[\"O1\",\"O2\",\"W1\"]},\n",
    "\"UF6\":{\"tag\":\"UF6\",\"type\":\"F\",\"weight\":3,\"solar\":3,\"in\":[\"W6\"],\"supplement\":[\"S4\"],\"out\":[\"O1\",\"O2\",\"W1\"]},\n",
    "\"UF7\":{\"tag\":\"UF7\",\"type\":\"F\",\"weight\":3,\"solar\":3,\"in\":[\"W5\",\"W6\",\"W7\"],\"supplement\":[\"S2\"],\"out\":[\"O1\",\"W1\"]},\n",
    "\"UF8\":{\"tag\":\"UF8\",\"type\":\"F\",\"weight\":3,\"solar\":1,\"in\":[\"W5\",\"W6\"],\"supplement\":[\"S1\"],\"out\":[\"O1\",\"W1\",\"W7\"]},\n",
    "\"UF9\":{\"tag\":\"UF9\",\"type\":\"F\",\"weight\":1,\"solar\":3,\"in\":[\"W5\",\"W6\",\"W7\"],\"supplement\":[\"S2\"],\"out\":[\"O1\",\"W1\"]}\n",
    "}"
   ]
  },
  {
   "cell_type": "code",
   "execution_count": 43,
   "metadata": {},
   "outputs": [
    {
     "name": "stdout",
     "output_type": "stream",
     "text": [
      "{'V1': {'tag': 'V1', 'UF': ['UF3', 'UF8']}, 'V2': {'tag': 'V2', 'UF': ['UF4', 'UF5', 'UF6', 'UF7', 'UF9']}, 'V3': {'tag': 'V3', 'UF': ['UF4', 'UF5', 'UF6', 'UF7', 'UF9']}, 'V4': {'tag': 'V4', 'UF': ['UF4', 'UF5', 'UF9']}, 'V5': {'tag': 'V5', 'UF': ['UF4', 'UF5', 'UF9']}, 'V6': {'tag': 'V6', 'UF': ['UF3']}}\n"
     ]
    }
   ],
   "source": [
    "#Make a dictionary of vacant spaces and potential uf systems\n",
    "v_potential = {}\n",
    "for k,v in vacant_spaces.items():\n",
    "    uf_list=[]\n",
    "    for j,y in uf_systems.items():\n",
    "        if (vacant_spaces[k][\"structure\"])>=(uf_systems[j][\"weight\"]) and (vacant_spaces[k][\"solar\"])==(uf_systems[j][\"solar\"]) and (uf_systems[j][\"type\"]==\"F\"):\n",
    "            v_potential[k]={}\n",
    "            uf_list.append(uf_systems[j][\"tag\"])\n",
    "            v_potential[k][\"tag\"]=vacant_spaces[k][\"tag\"]\n",
    "            v_potential[k][\"UF\"]=uf_list\n",
    "print(v_potential)"
   ]
  },
  {
   "cell_type": "code",
   "execution_count": 51,
   "metadata": {},
   "outputs": [
    {
     "name": "stdout",
     "output_type": "stream",
     "text": [
      "{'V1': ['WO5', 'WO6', 'WO7', 'WO9', 'WO2'], 'V2': [], 'V3': ['WO1', 'WO5'], 'V4': ['WO8', 'WO9'], 'V5': [], 'V6': ['WO3', 'WO8', 'WO9']}\n"
     ]
    },
    {
     "data": {
      "image/png": "[encoded data removed]",
      "text/plain": [
       "<Figure size 432x288 with 1 Axes>"
      ]
     },
     "metadata": {},
     "output_type": "display_data"
    }
   ],
   "source": [
    "#Draw graph from \"vacant_spaces\" and \"waste\" nodes with the given nearby nodes\n",
    "nodes_dict={}\n",
    "for i in wastes:\n",
    "    nodes_dict[i]=wastes[i][\"location\"]\n",
    "for i in vacant_spaces:\n",
    "    nodes_dict[i]=vacant_spaces[i][\"location\"]\n",
    "\n",
    "# Draw Graph with nodes and edges with coordinates\n",
    "G=nx.Graph()\n",
    "for i,j in vacant_spaces.items():\n",
    "    G.add_node(i)\n",
    "G.add_edges_from(nearby_waste)\n",
    "# nx.draw(G, with_labels=True, node_size=1)\n",
    "nx.draw_networkx(G,nodes_dict)\n",
    "\n",
    "# Create a dictionary with vacant spaces and waste outputs them\n",
    "new_waste_dict = create_edge_dict(G)\n",
    "waste_dict = {}\n",
    "for i,k in new_waste_dict.items():\n",
    "    new_list = []\n",
    "    if i in vacant_spaces:\n",
    "        waste_dict[i]=k\n",
    "print (waste_dict)"
   ]
  },
  {
   "cell_type": "code",
   "execution_count": 45,
   "metadata": {},
   "outputs": [
    {
     "name": "stdout",
     "output_type": "stream",
     "text": [
      "{'V1': {'tag': 'V1', 'UF': ['UF3', 'UF8']}, 'V2': {'tag': 'V2', 'UF': ['UF4', 'UF5', 'UF6', 'UF7', 'UF9']}, 'V3': {'tag': 'V3', 'UF': ['UF4', 'UF5', 'UF6', 'UF7', 'UF9']}, 'V4': {'tag': 'V4', 'UF': ['UF4', 'UF5', 'UF9']}, 'V5': {'tag': 'V5', 'UF': ['UF4', 'UF5', 'UF9']}, 'V6': {'tag': 'V6', 'UF': ['UF3']}}\n",
      "{'V1': ['WO5', 'WO6', 'WO7', 'WO9', 'WO2'], 'V2': [], 'V3': ['WO1', 'WO5'], 'V4': ['WO8', 'WO9'], 'V5': [], 'V6': ['WO3', 'WO8', 'WO9']}\n",
      "{'UF1': {'tag': 'UF1', 'type': 'S', 'weight': 3, 'solar': 1, 'in': ['W1', 'W2', 'W3', 'W6'], 'supplement': None, 'out': ['S4', 'S5']}, 'UF2': {'tag': 'UF2', 'type': 'S', 'weight': 3, 'solar': 2, 'in': ['W7'], 'supplement': ['S3', 'S5', 'S6'], 'out': ['O4', 'S2']}, 'UF3': {'tag': 'UF3', 'type': 'F', 'weight': 2, 'solar': 1, 'in': ['W2', 'W3', 'W4', 'W6'], 'supplement': ['S1'], 'out': ['O3', 'S4']}, 'UF4': {'tag': 'UF4', 'type': 'F', 'weight': 1, 'solar': 3, 'in': ['W5', 'W6', 'W7'], 'supplement': ['S2'], 'out': ['O1', 'W1']}, 'UF5': {'tag': 'UF5', 'type': 'F', 'weight': 1, 'solar': 3, 'in': ['W5', 'W6', 'W7'], 'supplement': ['S2'], 'out': ['O1', 'O2', 'W1']}, 'UF6': {'tag': 'UF6', 'type': 'F', 'weight': 3, 'solar': 3, 'in': ['W6'], 'supplement': ['S4'], 'out': ['O1', 'O2', 'W1']}, 'UF7': {'tag': 'UF7', 'type': 'F', 'weight': 3, 'solar': 3, 'in': ['W5', 'W6', 'W7'], 'supplement': ['S2'], 'out': ['O1', 'W1']}, 'UF8': {'tag': 'UF8', 'type': 'F', 'weight': 3, 'solar': 1, 'in': ['W5', 'W6'], 'supplement': ['S1'], 'out': ['O1', 'W1', 'W7']}, 'UF9': {'tag': 'UF9', 'type': 'F', 'weight': 1, 'solar': 3, 'in': ['W5', 'W6', 'W7'], 'supplement': ['S2'], 'out': ['O1', 'W1']}}\n"
     ]
    }
   ],
   "source": [
    "#List of dictionaries we will use:\n",
    "print(v_potential)\n",
    "print(waste_dict)\n",
    "print(uf_systems)"
   ]
  },
  {
   "cell_type": "code",
   "execution_count": 46,
   "metadata": {},
   "outputs": [
    {
     "name": "stdout",
     "output_type": "stream",
     "text": [
      "{'V1': {'UF3': ['W2', 'W3', 'W4', 'W6'], 'UF8': ['W5', 'W6']}, 'V2': {'UF4': ['W5', 'W6', 'W7'], 'UF5': ['W5', 'W6', 'W7'], 'UF6': ['W6'], 'UF7': ['W5', 'W6', 'W7'], 'UF9': ['W5', 'W6', 'W7']}, 'V3': {'UF4': ['W5', 'W6', 'W7'], 'UF5': ['W5', 'W6', 'W7'], 'UF6': ['W6'], 'UF7': ['W5', 'W6', 'W7'], 'UF9': ['W5', 'W6', 'W7']}, 'V4': {'UF4': ['W5', 'W6', 'W7'], 'UF5': ['W5', 'W6', 'W7'], 'UF9': ['W5', 'W6', 'W7']}, 'V5': {'UF4': ['W5', 'W6', 'W7'], 'UF5': ['W5', 'W6', 'W7'], 'UF9': ['W5', 'W6', 'W7']}, 'V6': {'UF3': ['W2', 'W3', 'W4', 'W6']}}\n"
     ]
    }
   ],
   "source": [
    "# add needed inputs for each potential system into the v_potential dictionary\n",
    "v_potential_dict={}\n",
    "\n",
    "for i,k in v_potential.items():\n",
    "    v_potential_dict[i]={}\n",
    "    potential_systems = v_potential[i][\"UF\"]\n",
    "    for item in potential_systems:\n",
    "       v_potential_dict[i][item] = uf_systems[item][\"in\"]\n",
    "       \n",
    "print(v_potential_dict)    "
   ]
  },
  {
   "cell_type": "markdown",
   "metadata": {},
   "source": [
    "Design Rule 2: Introduction of Quantity\n",
    "    if vacant space size = waste quantity"
   ]
  },
  {
   "cell_type": "code",
   "execution_count": 47,
   "metadata": {},
   "outputs": [
    {
     "name": "stdout",
     "output_type": "stream",
     "text": [
      "{'V1': {'UF3': ['W2', 'W3', 'W4', 'W6'], 'UF8': ['W5', 'W6']}, 'V2': {'UF4': ['W5', 'W6', 'W7'], 'UF5': ['W5', 'W6', 'W7'], 'UF6': ['W6'], 'UF7': ['W5', 'W6', 'W7'], 'UF9': ['W5', 'W6', 'W7']}, 'V3': {'UF4': ['W5', 'W6', 'W7'], 'UF5': ['W5', 'W6', 'W7'], 'UF6': ['W6'], 'UF7': ['W5', 'W6', 'W7'], 'UF9': ['W5', 'W6', 'W7']}, 'V4': {'UF4': ['W5', 'W6', 'W7'], 'UF5': ['W5', 'W6', 'W7'], 'UF9': ['W5', 'W6', 'W7']}, 'V5': {'UF4': ['W5', 'W6', 'W7'], 'UF5': ['W5', 'W6', 'W7'], 'UF9': ['W5', 'W6', 'W7']}, 'V6': {'UF3': ['W2', 'W3', 'W4', 'W6']}}\n",
      "V1 - UF8 - one missing item: ['W5']\n",
      "V2 - UF6 - one missing item: ['W6']\n",
      "V3 - UF6 - one missing item: ['W6']\n",
      "V6 - UF3 - two missing items: ['W3', 'W6']\n",
      "{'V1': {'system': {}}, 'V2': {'system': {}}, 'V3': {'system': {}}, 'V4': {'system': {}}, 'V5': {'system': {}}, 'V6': {'system': {}}}\n",
      "{'V1': {'system': 'UF8'}, 'V2': {'system': 'UF6'}, 'V3': {'system': 'UF6'}, 'V4': {'system': {}}, 'V5': {'system': {}}, 'V6': {'system': {}}}\n",
      "{'V1': {'system': {}}, 'V2': {'system': {}}, 'V3': {'system': {}}, 'V4': {'system': {}}, 'V5': {'system': {}}, 'V6': {'system': 'UF3'}}\n",
      "{'V1': {'system': {}}, 'V2': {'system': {}}, 'V3': {'system': {}}, 'V4': {'system': {}}, 'V5': {'system': {}}, 'V6': {'system': ['UF3']}}\n"
     ]
    }
   ],
   "source": [
    "# Preparation of Data\n",
    "# add needed inputs for each potential system into the v_potential dictionary\n",
    "v_potential_dict={}\n",
    "\n",
    "for i,k in v_potential.items():\n",
    "    v_potential_dict[i]={}\n",
    "    potential_systems = v_potential[i][\"UF\"]\n",
    "    for item in potential_systems:\n",
    "       v_potential_dict[i][item] = uf_systems[item][\"in\"]\n",
    "       \n",
    "print(v_potential_dict)    \n",
    "# Make a dictionary of found items nearby for each potential uf system\n",
    "found_dict={}\n",
    "\n",
    "for i,k in v_potential_dict.items():\n",
    "    found_dict[i]={}\n",
    "    # print(i, \"is space\")\n",
    "    for system,demanded in k.items():\n",
    "        # print(system, demanded)\n",
    "        found_dict[i][system]={}\n",
    "        found_dict[i][system][\"found\"]={}\n",
    "        found=[]\n",
    "        for waste in waste_dict[i]:\n",
    "            if wastes[waste][\"size\"] == vacant_spaces[i][\"size\"]:\n",
    "                for each in demanded: \n",
    "                    available = wastes[waste][\"type\"]\n",
    "                    # print(\"for\",system, \"in\",i, demanded, \"is needed\",available, \"is available\")\n",
    "                    if each == available:\n",
    "                        # print (\"found\",each)\n",
    "                        found.append(available)\n",
    "                        found_dict[i][system][\"found\"]=found\n",
    "                # else:\n",
    "                #     missing.append(each)\n",
    "                #     found_dict[i][system][\"missing\"]=missing\n",
    "\n",
    "#Make a dictionary of missing for each potential uf system           \n",
    "for i,system in found_dict.items():\n",
    "    for uf in system:\n",
    "        missing=[]\n",
    "        found_dict[i][uf][\"missing\"]={}\n",
    "        for x,y in uf_systems.items():\n",
    "            for item in uf_systems[x][\"in\"]:\n",
    "                if uf == x:\n",
    "                    missing.append(item)\n",
    "                    found_dict[i][uf][\"missing\"]=missing\n",
    "        \n",
    "#In the dictionary missing items also contain found items\n",
    "for i,k in found_dict.items():\n",
    "    for system in k:\n",
    "        for item in (found_dict[i][system][\"found\"]):\n",
    "            if item in found_dict[i][system][\"missing\"]:\n",
    "                missing_list=found_dict[i][system][\"missing\"]\n",
    "                missing_list.remove(item)\n",
    "\n",
    "#Remove repeating items\n",
    "# for i,k in found_dict.items():\n",
    "#     for system in k:\n",
    "#         found_items = found_dict[i][system][\"found\"]\n",
    "#         duplicate=list_duplicates(found_items)\n",
    "#         for found in found_items:\n",
    "#             if found in duplicate:\n",
    "#                 found_items.remove(found)\n",
    "\n",
    "# print (found_dict)\n",
    "\n",
    "# Apply Design Rule 2.0\n",
    "\n",
    "occupied_space = {}\n",
    "for i,k in found_dict.items():\n",
    "    occupied_space[i] = {}\n",
    "    occupied_space[i][\"system\"]={}\n",
    "    occ_system = []\n",
    "    for system in k:\n",
    "        found_items = found_dict[i][system][\"found\"]\n",
    "        missing_items = found_dict[i][system][\"missing\"]\n",
    "        if len(found_items)>=2:\n",
    "            occ_system.append(system)\n",
    "            occupied_space[i][\"system\"] = occ_system\n",
    "\n",
    "# Improve Design Rule 2.0:\n",
    "    # Minimising Missing Items\n",
    "    # If more than 1 system can be assigned to the space, select the one with the least amount of missing items\n",
    "\n",
    "no_missing_items = {}\n",
    "one_missing_item = {}\n",
    "two_missing_items = {}\n",
    "for i,k in occupied_space.items():\n",
    "    best_option = []\n",
    "    for item in occupied_space[i][\"system\"]:\n",
    "        \n",
    "        for space,items in found_dict.items():\n",
    "            no_missing_items[space]={}\n",
    "            no_missing_items[space][\"system\"]={}\n",
    "            one_missing_item[space]={}\n",
    "            one_missing_item[space][\"system\"]={}\n",
    "            two_missing_items[space]={}\n",
    "            two_missing_items[space][\"system\"]={}\n",
    "            occ_system_0 = []\n",
    "            occ_system_1 = []\n",
    "            occ_system_2 = []\n",
    "            for system in items:\n",
    "                missing = found_dict[space][system][\"missing\"]\n",
    "                if len(missing)==0:\n",
    "                    print(space,\"-\",system,\"-\",\"no missing items\")\n",
    "                    occ_system_0=system\n",
    "                    no_missing_items[space][\"system\"] = occ_system_0\n",
    "                    occupied_space[i][\"system\"] = occ_system_0\n",
    "                elif len(missing)==1:\n",
    "                    print(space,\"-\",system,\"-\",\"one missing item:\", missing)\n",
    "                    occ_system_1=system\n",
    "                    one_missing_item[space][\"system\"]= occ_system_1\n",
    "                elif len(missing)==2:\n",
    "                    print(space,\"-\",system,\"-\",\"two missing items:\", missing)\n",
    "                    occ_system_2=system\n",
    "                    two_missing_items[space][\"system\"]= occ_system_2\n",
    "\n",
    "print(no_missing_items)\n",
    "print(one_missing_item)\n",
    "print(two_missing_items)\n",
    "\n",
    "print(occupied_space)"
   ]
  },
  {
   "cell_type": "markdown",
   "metadata": {},
   "source": [
    "Design Rule 3.0 : Combining Small Quantities of Waste To Feed Bigger Vacant Spaces\n",
    "    "
   ]
  }
 ],
 "metadata": {
  "interpreter": {
   "hash": "ceab667343e9d59e560dc535b596d8ce99779dfe6a9fc32021184bc08a53fa46"
  },
  "kernelspec": {
   "display_name": "Python 3.8.5 ('earthy')",
   "language": "python",
   "name": "python3"
  },
  "language_info": {
   "codemirror_mode": {
    "name": "ipython",
    "version": 3
   },
   "file_extension": ".py",
   "mimetype": "text/x-python",
   "name": "python",
   "nbconvert_exporter": "python",
   "pygments_lexer": "ipython3",
   "version": "3.8.8"
  },
  "orig_nbformat": 4
 },
 "nbformat": 4,
 "nbformat_minor": 2
}
