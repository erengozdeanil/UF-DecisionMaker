{
 "cells": [
  {
   "cell_type": "code",
   "execution_count": 766,
   "metadata": {},
   "outputs": [],
   "source": [
    "#Import Tools\n",
    "import networkx as nx\n",
    "import matplotlib.pyplot as plt\n",
    "import numpy as np"
   ]
  },
  {
   "cell_type": "code",
   "execution_count": 767,
   "metadata": {},
   "outputs": [],
   "source": [
    "# Gives adjacency dictionary (not mine)\n",
    "edge_dict={}\n",
    "def create_edge_dict(graph):\n",
    "    for i, n in G.adjacency():\n",
    "        # print(\"i is\",i)\n",
    "        # print(\"n is\",n)\n",
    "        edge_dict[i] = list(n)\n",
    "    return edge_dict\n",
    "\n",
    "# Gives duplicate items in a list (not mine)\n",
    "def list_duplicates(seq):\n",
    "  seen = set()\n",
    "  seen_add = seen.add\n",
    "  # adds all elements it doesn't know yet to seen and all other to seen_twice\n",
    "  seen_twice = set( x for x in seq if x in seen or seen_add(x) )\n",
    "  # turn the set into a list (as requested)\n",
    "  return list( seen_twice )\n",
    "\n",
    "\n",
    "#(https://www.geeksforgeeks.org/python-merge-two-lists-into-list-of-tuples/)\n",
    "def merge(list1, list2):\n",
    "      \n",
    "    merged_list = []\n",
    "    for i in range(max((len(list1), len(list2)))):\n",
    "  \n",
    "        while True:\n",
    "            try:\n",
    "                tup = (list1[i], list2[i])\n",
    "            except IndexError:\n",
    "                if len(list1) > len(list2):\n",
    "                    list2.append('')\n",
    "                    tup = (list1[i], list2[i])\n",
    "                elif len(list1) < len(list2):\n",
    "                    list1.append('')\n",
    "                    tup = (list1[i], list2[i])\n",
    "                continue\n",
    "  \n",
    "            merged_list.append(tup)\n",
    "            break\n",
    "    return merged_list\n",
    "\n",
    "# def neighbors_in_radius(G, radius):\n",
    "#     adj = np.array(nx.linalg.graphmatrix.adjacency_matrix(G).todense()).astype(float)  # much faster as float\n",
    "#     power_adj = connected = adj\n",
    "#     for i in range(radius - 1):\n",
    "#         power_adj = power_adj.dot(adj)\n",
    "#         connected = connected + power_adj\n",
    "#     connected = connected.astype(bool).astype(int)\n",
    "#     return connected\n",
    "\n",
    "# function to check whether the list is empty or not\n",
    "def is_list_empty(list):\n",
    "    # checking the length\n",
    "    if len(list) == 0:\n",
    "        # returning true as length is 0\n",
    "        return True\n",
    "    # returning false as length is greater than 0\n",
    "    return False"
   ]
  },
  {
   "cell_type": "code",
   "execution_count": 768,
   "metadata": {},
   "outputs": [],
   "source": [
    "#Create dummy data\n",
    "# 8:{\"location\":(0,0),\"tag\":\"WO6\",\"building\":\"BK\",\"size\":2,\"type\":\"W2\"}\n",
    "# 1:{\"location\":(0,0),\"tag\":\"V1\",\"building\":\"BK\",\"size\":3,\"structure\":3,\"solar\":1}\n",
    "\n",
    "vacant_spaces = {\n",
    "\"V1\":{\"location\":(0,1),\"tag\":\"V1\",\"building\":\"BK\",\"size\":3,\"structure\":3,\"solar\":1, \"node_type\":\"vacant\"}, \n",
    "\"V2\":{\"location\":(10,2),\"tag\":\"V2\",\"building\":\"BK\",\"size\":3,\"structure\":3,\"solar\":2, \"node_type\":\"vacant\"},\n",
    "\"V3\":{\"location\":(2,7),\"tag\":\"V3\",\"building\":\"BK\",\"size\":3,\"structure\":3,\"solar\":2, \"node_type\":\"vacant\"},\n",
    "\"V4\":{\"location\":(4,8),\"tag\":\"V4\",\"building\":\"BK\",\"size\":3,\"structure\":1,\"solar\":3, \"node_type\":\"vacant\"},\n",
    "\"V5\":{\"location\":(2,3),\"tag\":\"V5\",\"building\":\"BK\",\"size\":1,\"structure\":1,\"solar\":3, \"node_type\":\"vacant\"},\n",
    "\"V6\":{\"location\":(4,4),\"tag\":\"V6\",\"building\":\"BK\",\"size\":2,\"structure\":2,\"solar\":1, \"node_type\":\"vacant\"}}\n",
    "\n",
    "wastes = {\n",
    "\"WO1\":{\"location\":(0,0),\"tag\":\"WO1\",\"building\":\"BK\",\"size\":3,\"type\":\"W1\", \"node_type\":\"waste\"}, \n",
    "\"WO2\":{\"location\":(8,1),\"tag\":\"WO2\",\"building\":\"BK\",\"size\":3,\"type\":\"W6\", \"node_type\":\"waste\"},\n",
    "\"WO3\":{\"location\":(1,7),\"tag\":\"WO3\",\"building\":\"BK\",\"size\":2,\"type\":\"W4\", \"node_type\":\"waste\"},\n",
    "\"WO4\":{\"location\":(2,6),\"tag\":\"WO4\",\"building\":\"BK\",\"size\":3,\"type\":\"W2\", \"node_type\":\"waste\"},\n",
    "\"WO5\":{\"location\":(4,5),\"tag\":\"WO5\",\"building\":\"BK\",\"size\":3,\"type\":\"W7\", \"node_type\":\"waste\"},\n",
    "\"WO6\":{\"location\":(3,2),\"tag\":\"WO6\",\"building\":\"BK\",\"size\":1,\"type\":\"W5\", \"node_type\":\"waste\"},\n",
    "\"WO7\":{\"location\":(2,4),\"tag\":\"WO7\",\"building\":\"BK\",\"size\":1,\"type\":\"W5\", \"node_type\":\"waste\"},\n",
    "\"WO8\":{\"location\":(10,3),\"tag\":\"WO8\",\"building\":\"BK\",\"size\":3,\"type\":\"W7\", \"node_type\":\"waste\"},\n",
    "\"WO9\":{\"location\":(10,1),\"tag\":\"WO9\",\"building\":\"BK\",\"size\":3,\"type\":\"W7\", \"node_type\":\"waste\"}}\n",
    "\n",
    "nearby_space = ((\"V1\",\"V2\"),(\"V1\",\"V3\"),(\"V6\",\"V3\"),(\"V2\",\"V3\"))\n",
    "nearby_waste = ((\"V1\",\"WO5\"),(\"V1\",\"WO6\"),(\"V1\",\"WO7\"),(\"V1\",\"WO3\"),(\"V1\",\"WO8\"),(\"V2\",\"WO5\"),(\"V2\",\"WO6\"),(\"V2\",\"WO8\"),(\"V2\",\"WO9\"),(\"V2\",\"WO8\"),(\"V2\",\"WO2\"),(\"V4\",\"WO8\"),(\"V4\",\"WO9\"),(\"V1\",\"WO2\"),(\"V3\",\"WO5\"),(\"V6\",\"WO8\"),(\"V6\",\"WO9\"))"
   ]
  },
  {
   "cell_type": "code",
   "execution_count": 769,
   "metadata": {},
   "outputs": [],
   "source": [
    "# Tried to find nearby nodes only using python but it is taking too much time, prototype will instead work with lists provided by grasshopper\n",
    "#  waste_nearby=[]\n",
    "# for i in vacant_spaces:\n",
    "#     for k in wastes:\n",
    "#         tuples=(i,k)\n",
    "#         waste_nearby.append(tuples)\n",
    "# waste_nearby=tuple(waste_nearby)\n",
    "# print(waste_nearby)"
   ]
  },
  {
   "cell_type": "code",
   "execution_count": 770,
   "metadata": {},
   "outputs": [],
   "source": [
    "#Dictionary of urban farming systems\n",
    "    # UF1: Vermiculture, UF2: Aquaculture, UF3: Mushroom, UF4: NFT, UF5: Medai Beds, UF6: Raised Beds, UF7: Water Culture, UF8: Plant Factory, UF9: Aeroponics\n",
    "    # \"S\" : supplementary system, \"F\" : food production system\n",
    "    # 3 : high, 2 : medium, 1 : low, 0 : none\n",
    "uf_systems = {\n",
    "\"UF1\":{\"tag\":\"UF1\",\"type\":\"S\",\"weight\":3,\"solar\":1,\"in\":[\"W1\",\"W2\",\"W3\",\"W6\"],\"supplement\":None,\"out\":[\"S4\",\"S5\"]},\n",
    "\"UF2\":{\"tag\":\"UF2\",\"type\":\"SF\",\"weight\":3,\"solar\":2,\"in\":[\"W7\"],\"supplement\":[\"S3\",\"S5\",\"S6\"],\"out\":[\"O4\",\"S2\"]},\n",
    "\"UF3\":{\"tag\":\"UF3\",\"type\":\"F\",\"weight\":2,\"solar\":1,\"in\":[\"W2\",\"W3\",\"W4\",\"W6\"],\"supplement\":None,\"out\":[\"O3\",\"S4\"]},\n",
    "\"UF4\":{\"tag\":\"UF4\",\"type\":\"F\",\"weight\":1,\"solar\":3,\"in\":[\"W5\",\"W6\",\"W7\"],\"supplement\":[\"S2\"],\"out\":[\"O1\",\"W1\"]},\n",
    "\"UF5\":{\"tag\":\"UF5\",\"type\":\"F\",\"weight\":1,\"solar\":3,\"in\":[\"W5\",\"W6\",\"W7\"],\"supplement\":[\"S2\"],\"out\":[\"O1\",\"O2\",\"W1\"]},\n",
    "\"UF6\":{\"tag\":\"UF6\",\"type\":\"F\",\"weight\":3,\"solar\":3,\"in\":[\"W6\"],\"supplement\":[\"S4\"],\"out\":[\"O1\",\"O2\",\"W1\"]},\n",
    "\"UF7\":{\"tag\":\"UF7\",\"type\":\"F\",\"weight\":3,\"solar\":3,\"in\":[\"W5\",\"W6\",\"W7\"],\"supplement\":[\"S2\"],\"out\":[\"O1\",\"W1\"]},\n",
    "\"UF8\":{\"tag\":\"UF8\",\"type\":\"F\",\"weight\":3,\"solar\":1,\"in\":[\"W5\",\"W6\"],\"supplement\":[\"S2\"],\"out\":[\"O1\",\"W1\",\"W7\"]},\n",
    "\"UF9\":{\"tag\":\"UF9\",\"type\":\"F\",\"weight\":1,\"solar\":3,\"in\":[\"W5\",\"W6\"],\"supplement\":[\"S2\"],\"out\":[\"O1\",\"W1\"]}\n",
    "}\n",
    "\n",
    "critical_items=[\"W1\",\"W2\",\"W3\", \"W4\"]\n",
    "non_critical_items=[\"W5\",\"W6\",\"W7\"]"
   ]
  },
  {
   "cell_type": "code",
   "execution_count": 771,
   "metadata": {},
   "outputs": [
    {
     "name": "stdout",
     "output_type": "stream",
     "text": [
      "{'V1': {'tag': 'V1', 'UF': ['UF3', 'UF8']}, 'V4': {'tag': 'V4', 'UF': ['UF4', 'UF5', 'UF9']}, 'V5': {'tag': 'V5', 'UF': ['UF4', 'UF5', 'UF9']}, 'V6': {'tag': 'V6', 'UF': ['UF3']}}\n"
     ]
    }
   ],
   "source": [
    "#Make a dictionary of vacant spaces and potential uf systems\n",
    "v_potential = {}\n",
    "for k,v in vacant_spaces.items():\n",
    "    uf_list=[]\n",
    "    for j,y in uf_systems.items():\n",
    "        if (vacant_spaces[k][\"structure\"])>=(uf_systems[j][\"weight\"]) and (vacant_spaces[k][\"solar\"])==(uf_systems[j][\"solar\"]) and (uf_systems[j][\"type\"]==\"F\"):\n",
    "            v_potential[k]={}\n",
    "            uf_list.append(uf_systems[j][\"tag\"])\n",
    "            v_potential[k][\"tag\"]=vacant_spaces[k][\"tag\"]\n",
    "            v_potential[k][\"UF\"]=uf_list\n",
    "print(v_potential)"
   ]
  },
  {
   "cell_type": "code",
   "execution_count": 772,
   "metadata": {},
   "outputs": [
    {
     "name": "stdout",
     "output_type": "stream",
     "text": [
      "{'V1': ['WO5', 'WO6', 'WO7', 'WO3', 'WO8', 'WO2'], 'V2': ['WO5', 'WO6', 'WO8', 'WO9', 'WO2'], 'V3': ['WO5'], 'V4': ['WO8', 'WO9'], 'V5': [], 'V6': ['WO8', 'WO9']}\n"
     ]
    },
    {
     "data": {
      "image/png": "[encoded data removed]",
      "text/plain": [
       "<Figure size 432x288 with 1 Axes>"
      ]
     },
     "metadata": {},
     "output_type": "display_data"
    }
   ],
   "source": [
    "#Draw graph from \"vacant_spaces\" and \"waste\" nodes with the given nearby nodes\n",
    "# nodes_dict={}\n",
    "# for i in wastes:\n",
    "#     nodes_dict[i]=wastes[i][\"location\"]\n",
    "# for i in vacant_spaces:\n",
    "#     nodes_dict[i]=vacant_spaces[i][\"location\"]\n",
    "\n",
    "# Draw Graph with nodes and edges with coordinates\n",
    "G=nx.Graph()\n",
    "for i,j in vacant_spaces.items():\n",
    "    G.add_node(i)\n",
    "G.add_edges_from(nearby_waste)\n",
    "nx.draw(G, with_labels=True, node_size=10)\n",
    "# nx.draw_networkx(G,nodes_dict)\n",
    "\n",
    "# Create a dictionary with vacant spaces and waste outputs them\n",
    "new_waste_dict = create_edge_dict(G)\n",
    "waste_dict = {}\n",
    "for i,k in new_waste_dict.items():\n",
    "    new_list = []\n",
    "    if i in vacant_spaces:\n",
    "        waste_dict[i]=k\n",
    "print (waste_dict)"
   ]
  },
  {
   "cell_type": "code",
   "execution_count": 773,
   "metadata": {},
   "outputs": [],
   "source": [
    "# For each vacant space find wastes within radius=1\n",
    "\n",
    "# new_list=[]\n",
    "# for nodes in G.nodes():\n",
    "#     for i,j in vacant_spaces.items():\n",
    "#         if nodes == vacant_spaces[i][\"tag\"]:\n",
    "#             new_list.append(nodes)\n",
    "# print(new_list)\n",
    "# for i in new_list:\n",
    "#     # print(i, \"is i\")\n",
    "#     G_close = nx.ego_graph(G,i,radius=1)\n",
    "#     nx.draw(G_close, with_labels=True, node_size=2)\n",
    "#     edge_dictionary=create_edge_dict(G_close)\n",
    "\n",
    "# G_close = nx.ego_graph(G,\"V1\",radius=1)\n",
    "# nx.draw(G_close, with_labels=True, node_size=2)\n",
    "# G_close.edges(\"V1\")\n",
    "\n",
    "# waste_nearby={}\n",
    "# for m,n in vacant_spaces.items():\n",
    "#     for i,k in edge_dictionary.items():\n",
    "#         if i!=vacant_spaces[m][\"tag\"]:\n",
    "#             print(i, \"is not vacant space\")\n",
    "#         else:\n",
    "#             waste_nearby[i]=k\n",
    "#             # print(i, \"is vacant space\")\n",
    "            \n",
    "# ###### include waste types!!!!!!\n",
    "\n",
    "# print(waste_nearby)"
   ]
  },
  {
   "cell_type": "code",
   "execution_count": 774,
   "metadata": {},
   "outputs": [
    {
     "name": "stdout",
     "output_type": "stream",
     "text": [
      "{'V1': {'tag': 'V1', 'UF': ['UF3', 'UF8']}, 'V4': {'tag': 'V4', 'UF': ['UF4', 'UF5', 'UF9']}, 'V5': {'tag': 'V5', 'UF': ['UF4', 'UF5', 'UF9']}, 'V6': {'tag': 'V6', 'UF': ['UF3']}}\n",
      "{'V1': ['WO5', 'WO6', 'WO7', 'WO3', 'WO8', 'WO2'], 'V2': ['WO5', 'WO6', 'WO8', 'WO9', 'WO2'], 'V3': ['WO5'], 'V4': ['WO8', 'WO9'], 'V5': [], 'V6': ['WO8', 'WO9']}\n",
      "{'UF1': {'tag': 'UF1', 'type': 'S', 'weight': 3, 'solar': 1, 'in': ['W1', 'W2', 'W3', 'W6'], 'supplement': None, 'out': ['S4', 'S5']}, 'UF2': {'tag': 'UF2', 'type': 'SF', 'weight': 3, 'solar': 2, 'in': ['W7'], 'supplement': ['S3', 'S5', 'S6'], 'out': ['O4', 'S2']}, 'UF3': {'tag': 'UF3', 'type': 'F', 'weight': 2, 'solar': 1, 'in': ['W2', 'W3', 'W4', 'W6'], 'supplement': None, 'out': ['O3', 'S4']}, 'UF4': {'tag': 'UF4', 'type': 'F', 'weight': 1, 'solar': 3, 'in': ['W5', 'W6', 'W7'], 'supplement': ['S2'], 'out': ['O1', 'W1']}, 'UF5': {'tag': 'UF5', 'type': 'F', 'weight': 1, 'solar': 3, 'in': ['W5', 'W6', 'W7'], 'supplement': ['S2'], 'out': ['O1', 'O2', 'W1']}, 'UF6': {'tag': 'UF6', 'type': 'F', 'weight': 3, 'solar': 3, 'in': ['W6'], 'supplement': ['S4'], 'out': ['O1', 'O2', 'W1']}, 'UF7': {'tag': 'UF7', 'type': 'F', 'weight': 3, 'solar': 3, 'in': ['W5', 'W6', 'W7'], 'supplement': ['S2'], 'out': ['O1', 'W1']}, 'UF8': {'tag': 'UF8', 'type': 'F', 'weight': 3, 'solar': 1, 'in': ['W5', 'W6'], 'supplement': ['S2'], 'out': ['O1', 'W1', 'W7']}, 'UF9': {'tag': 'UF9', 'type': 'F', 'weight': 1, 'solar': 3, 'in': ['W5', 'W6'], 'supplement': ['S2'], 'out': ['O1', 'W1']}}\n"
     ]
    }
   ],
   "source": [
    "#List of dictionaries we will use:\n",
    "print(v_potential)\n",
    "print(waste_dict)\n",
    "print(uf_systems)"
   ]
  },
  {
   "cell_type": "code",
   "execution_count": 775,
   "metadata": {},
   "outputs": [
    {
     "name": "stdout",
     "output_type": "stream",
     "text": [
      "{'V1': {'UF3': ['W2', 'W3', 'W4', 'W6'], 'UF8': ['W5', 'W6']}, 'V4': {'UF4': ['W5', 'W6', 'W7'], 'UF5': ['W5', 'W6', 'W7'], 'UF9': ['W5', 'W6']}, 'V5': {'UF4': ['W5', 'W6', 'W7'], 'UF5': ['W5', 'W6', 'W7'], 'UF9': ['W5', 'W6']}, 'V6': {'UF3': ['W2', 'W3', 'W4', 'W6']}}\n"
     ]
    }
   ],
   "source": [
    "# add needed inputs for each potential system into the v_potential dictionary\n",
    "v_potential_dict={}\n",
    "\n",
    "for i,k in v_potential.items():\n",
    "    v_potential_dict[i]={}\n",
    "    potential_systems = v_potential[i][\"UF\"]\n",
    "    for item in potential_systems:\n",
    "       v_potential_dict[i][item] = uf_systems[item][\"in\"]\n",
    "       \n",
    "print(v_potential_dict)    "
   ]
  },
  {
   "cell_type": "markdown",
   "metadata": {},
   "source": [
    "#Design Rule 1.0 : Waste Availability\n",
    "    #if there are more than 2 found items assign that system to that vacant space"
   ]
  },
  {
   "cell_type": "markdown",
   "metadata": {},
   "source": [
    "Design Rule 2: Introduction of Quantity\n",
    "    if vacant space size = waste quantity"
   ]
  },
  {
   "cell_type": "markdown",
   "metadata": {},
   "source": [
    "Design Rule 3.0 : Sharing Existing Resources\n",
    "   ~ to be developed \n",
    "    "
   ]
  },
  {
   "cell_type": "code",
   "execution_count": 776,
   "metadata": {},
   "outputs": [
    {
     "name": "stdout",
     "output_type": "stream",
     "text": [
      "['WO6', 'WO7', 'WO2']\n",
      "{'V1': {'UF3': {'found': ['W4', 'W6'], 'source': ['WO3', 'WO2'], 'missing': ['W2', 'W3']}, 'UF8': {'found': ['W5', 'W5', 'W6'], 'source': ['WO6', 'WO7', 'WO2'], 'missing': []}}, 'V4': {'UF4': {'found': ['W7', 'W7'], 'source': ['WO8', 'WO9'], 'missing': ['W5', 'W6']}, 'UF5': {'found': ['W7', 'W7'], 'source': ['WO8', 'WO9'], 'missing': ['W5', 'W6']}, 'UF9': {'found': {}, 'source': {}, 'missing': ['W5', 'W6']}}, 'V5': {'UF4': {'found': {}, 'source': {}, 'missing': ['W5', 'W6', 'W7']}, 'UF5': {'found': {}, 'source': {}, 'missing': ['W5', 'W6', 'W7']}, 'UF9': {'found': {}, 'source': {}, 'missing': ['W5', 'W6']}}, 'V6': {'UF3': {'found': {}, 'source': {}, 'missing': ['W2', 'W3', 'W4', 'W6']}}}\n"
     ]
    }
   ],
   "source": [
    "# Preparation of Data\n",
    "#Make a dictionary of found items nearby for each potential uf system\n",
    "found_dict={}\n",
    "\n",
    "for i,k in v_potential_dict.items():\n",
    "    found_dict[i]={}\n",
    "    # print(i, \"is space\")\n",
    "    for system,demanded in k.items():\n",
    "        # print(system, demanded)\n",
    "        found_dict[i][system]={}\n",
    "        found_dict[i][system][\"found\"]={}\n",
    "        found_dict[i][system][\"source\"]={}\n",
    "        # found_dict[i][system][\"missing\"]={}\n",
    "        # print(\"for\",system,demanded,\"is needed\")\n",
    "        found=[]\n",
    "        source=[]\n",
    "        for waste in waste_dict[i]:\n",
    "            for each in demanded: \n",
    "                available = wastes[waste][\"type\"]\n",
    "                source2 = wastes[waste][\"tag\"]\n",
    "                # print(source)\n",
    "                source_size = wastes[waste][\"size\"]\n",
    "                #print(\"for\",system, \"in\",i, demanded, \"is needed\",available, \"is available\")\n",
    "                if each == available:\n",
    "                    # print (\"found\",each)\n",
    "                    found.append(available)\n",
    "                    source.append(source2)\n",
    "                    found_dict[i][system][\"found\"]=found\n",
    "                    found_dict[i][system][\"source\"]=source\n",
    "                # else:\n",
    "                #     \n",
    "                #     missing.append(each)\n",
    "                #     found_dict[i][system][\"missing\"]=missing\n",
    "\n",
    "#Make a dictionary of missing for each potential uf system           \n",
    "for i,system in found_dict.items():\n",
    "    for uf in system:\n",
    "        missing=[]\n",
    "        found_dict[i][uf][\"missing\"]={}\n",
    "        for x,y in uf_systems.items():\n",
    "            for item in uf_systems[x][\"in\"]:\n",
    "                if uf == x:\n",
    "                    missing.append(item)\n",
    "                    found_dict[i][uf][\"missing\"]=missing\n",
    "        \n",
    "#In the dictionary missing items also contain found items\n",
    "for i,k in found_dict.items():\n",
    "    for system in k:\n",
    "        for item in (found_dict[i][system][\"found\"]):\n",
    "            if item in found_dict[i][system][\"missing\"]:\n",
    "                missing_list=found_dict[i][system][\"missing\"]\n",
    "                missing_list.remove(item)\n",
    "\n",
    "##remove repeating items\n",
    "# for i,k in found_dict.items():\n",
    "#     for system in k:\n",
    "#         found_items = found_dict[i][system][\"found\"]\n",
    "#         duplicate=list_duplicates(found_items)\n",
    "#         for found in found_items:\n",
    "#             if found in duplicate:\n",
    "#                 found_items.remove(found)\n",
    "\n",
    "#reach sizes of duplicate items\n",
    "for i,k in found_dict.items():\n",
    "    for system in k:\n",
    "        found_items=found_dict[i][system][\"found\"]\n",
    "        \n",
    "print (found_dict[\"V1\"][\"UF8\"][\"source\"])\n",
    "print (found_dict)"
   ]
  },
  {
   "cell_type": "code",
   "execution_count": 777,
   "metadata": {},
   "outputs": [],
   "source": [
    "#make a duplicate of found dict with sorted systems"
   ]
  },
  {
   "cell_type": "code",
   "execution_count": 778,
   "metadata": {},
   "outputs": [],
   "source": [
    "# apply design rule 3.1\n",
    "# if v_size == w_size+w_size+w_size add to found & remove from wastes list\n",
    "\n",
    "# duplicate_items={}\n",
    "# for space,potential in found_dict.items():\n",
    "#     duplicate_items[space]={}\n",
    "#     # print(potential)\n",
    "#     for system, k in potential.items():\n",
    "#         if len(found_dict[space][system][\"found\"])> 1:\n",
    "#             found_items3=found_dict[space][system][\"found\"]\n",
    "#             # print(found_dict[space][system][\"source\"])\n",
    "#             # print(found_items3)\n",
    "#             sources=[]\n",
    "#             for index,items in enumerate(found_items3):\n",
    "#                 # print(index,items)\n",
    "#                 count=found_items3.count(items)\n",
    "#                 # print(count)\n",
    "#                 if count>1:\n",
    "#                     items_str=str(items)\n",
    "#                     sources.append(found_dict[space][system][\"source\"][index])\n",
    "    \n",
    "#             duplicate_items[space][\"matching sources\"]=sources\n",
    "\n",
    "            \n",
    "#                     # if sum(wastes[sources][\"size\"])== vacant_spaces[space][\"size\"]:\n",
    "# print(sources)\n",
    "# print(duplicate_items)\n"
   ]
  },
  {
   "cell_type": "code",
   "execution_count": 779,
   "metadata": {},
   "outputs": [
    {
     "name": "stdout",
     "output_type": "stream",
     "text": [
      "{'V1': {'W4': {}, 'W6': {}, 'W5': {'matching sources': ['WO6', 'WO7']}}, 'V4': {'W7': {'matching sources': ['WO8', 'WO9']}}, 'V5': {}, 'V6': {}}\n"
     ]
    }
   ],
   "source": [
    "#Make a dictionary holding each vacant space& found and repeating waste type & waste sources corresponding to found items\n",
    "duplicate_items={}\n",
    "for space,potential in found_dict.items():\n",
    "    \n",
    "    duplicate_items[space]={}\n",
    "    # print(potential)\n",
    "    for system, k in potential.items():\n",
    "        \n",
    "        if len(found_dict[space][system][\"found\"])> 1:\n",
    "            found_items3=found_dict[space][system][\"found\"]\n",
    "            # print(found_dict[space][system][\"source\"])\n",
    "            sources=[]\n",
    "            for index,items in enumerate(found_items3):\n",
    "                # print(index,items)\n",
    "                duplicate_items[space][items]={}\n",
    "                count=found_items3.count(items)\n",
    "                # print(found_items3,space,item,count)\n",
    "                \n",
    "                if count>1:\n",
    "                    items_str=str(items)\n",
    "                    sources.append(found_dict[space][system][\"source\"][index])\n",
    "                    duplicate_items[space][items][\"matching sources\"]=sources\n",
    "\n",
    "print(duplicate_items)"
   ]
  },
  {
   "cell_type": "code",
   "execution_count": 780,
   "metadata": {},
   "outputs": [
    {
     "name": "stdout",
     "output_type": "stream",
     "text": [
      "{'V1': {'W4': {}, 'W6': {}, 'W5': {'matching sources': ['WO6', 'WO7']}}, 'V4': {'W7': {'matching sources': ['WO8', 'WO9']}}, 'V5': {}, 'V6': {}}\n",
      "1 And 3 WO6\n",
      "WO6 is not matched\n",
      "2 And 3 WO7\n",
      "WO7 is not matched\n",
      "V4 [3] add to found list and remove from missing\n",
      "['WO8', 'WO9'] is found\n",
      "6 And 3 WO9\n",
      "WO9 is not matched\n",
      "{'V1': {'W4': {}, 'W6': {}, 'W5': []}, 'V4': {'W7': []}, 'V5': {}, 'V6': {}}\n"
     ]
    }
   ],
   "source": [
    "#check if the total size of found waste matches the vacant space size\n",
    "print(duplicate_items)  \n",
    "satisfying_duplicate={}\n",
    "for space, k in duplicate_items.items():\n",
    "    satisfying_duplicate[space]={}\n",
    "    for key,value in k.items():\n",
    "        satisfying_duplicate[space][key]={}\n",
    "        waste_matched=[]\n",
    "        not_matched=[]\n",
    "        if duplicate_items[space][key]!=[]:\n",
    "            for m,n in duplicate_items[space][key].items():\n",
    "                matched=duplicate_items[space][key][m]\n",
    "                for items in matched:\n",
    "                    found_new=[]\n",
    "                    waste_matched.append(wastes[items][\"size\"])\n",
    "                    if sum(waste_matched)==vacant_spaces[space][\"size\"]:\n",
    "                        print(space, waste_matched, \"add to found list and remove from missing\")\n",
    "                        found_new=matched\n",
    "                        print(found_new, \"is found\")\n",
    "\n",
    "                    else:\n",
    "                        print(sum(waste_matched),\"And\",vacant_spaces[space][\"size\"],items)\n",
    "                        not_matched=items\n",
    "                        print(not_matched,\"is not matched\")\n",
    "                satisfying_duplicate[space][key]=found_new\n",
    "                            \n",
    "print(satisfying_duplicate) \n"
   ]
  },
  {
   "cell_type": "code",
   "execution_count": 781,
   "metadata": {},
   "outputs": [
    {
     "name": "stdout",
     "output_type": "stream",
     "text": [
      "{'V1': {'UF3': {'found': ['W4', 'W6'], 'source': ['WO3', 'WO2'], 'missing': ['W2', 'W3']}, 'UF8': {'found': ['W5', 'W5', 'W6'], 'source': ['WO6', 'WO7', 'WO2'], 'missing': []}}, 'V4': {'UF4': {'found': ['W7', 'W7'], 'source': ['WO8', 'WO9'], 'missing': ['W5', 'W6']}, 'UF5': {'found': ['W7', 'W7'], 'source': ['WO8', 'WO9'], 'missing': ['W5', 'W6']}, 'UF9': {'found': {}, 'source': {}, 'missing': ['W5', 'W6']}}, 'V5': {'UF4': {'found': {}, 'source': {}, 'missing': ['W5', 'W6', 'W7']}, 'UF5': {'found': {}, 'source': {}, 'missing': ['W5', 'W6', 'W7']}, 'UF9': {'found': {}, 'source': {}, 'missing': ['W5', 'W6']}}, 'V6': {'UF3': {'found': {}, 'source': {}, 'missing': ['W2', 'W3', 'W4', 'W6']}}}\n"
     ]
    }
   ],
   "source": [
    "#remove duplicate items if they are also in satisfying_duplicate items list\n",
    "for space,potential in found_dict.items():\n",
    "    for system in potential.keys():\n",
    "        # print(found_dict[space][system][\"found\"])\n",
    "        for key, value in satisfying_duplicate.items():\n",
    "            for waste in value.keys():\n",
    "                if key==space:\n",
    "                        if len(found_dict[space][system][\"found\"])>0:\n",
    "                        # print(satisfying_duplicate[key][waste])\n",
    "                            if len(satisfying_duplicate[key][waste])>0:\n",
    "                                if waste in found_dict[space][system][\"found\"]:\n",
    "                                    type(satisfying_duplicate[key][waste])\n",
    "                                    print(waste,satisfying_duplicate[key][waste],\"is found\")\n",
    "                                    print(space,waste,\"is found\")\n",
    "                                    found_items = found_dict[space][system][\"found\"]\n",
    "                                    duplicate=list_duplicates(found_items)\n",
    "                                    for found in found_items:\n",
    "                                        if found in duplicate:\n",
    "                                            found_items.remove(found)                                                    \n",
    "print(found_dict)"
   ]
  },
  {
   "cell_type": "code",
   "execution_count": 782,
   "metadata": {},
   "outputs": [
    {
     "name": "stdout",
     "output_type": "stream",
     "text": [
      "duplicate V1 W5 UF8\n",
      "duplicate not satisfying V1 W5 UF8\n",
      "duplicate V1 W5 UF8\n",
      "duplicate not satisfying V1 W5 UF8\n",
      "duplicate V4 W7 UF4\n",
      "duplicate not satisfying V4 W7 UF4\n",
      "duplicate V4 W7 UF5\n",
      "duplicate not satisfying V4 W7 UF5\n",
      "{'V1': {'UF3': {'found': ['W4', 'W6'], 'source': ['WO3', 'WO2'], 'missing': ['W2', 'W3']}, 'UF8': {'found': ['W6'], 'source': ['WO6', 'WO7', 'WO2'], 'missing': ['W5']}}, 'V4': {'UF4': {'found': ['W7'], 'source': ['WO8', 'WO9'], 'missing': ['W5', 'W6', 'W7']}, 'UF5': {'found': ['W7'], 'source': ['WO8', 'WO9'], 'missing': ['W5', 'W6', 'W7']}, 'UF9': {'found': {}, 'source': {}, 'missing': ['W5', 'W6']}}, 'V5': {'UF4': {'found': {}, 'source': {}, 'missing': ['W5', 'W6', 'W7']}, 'UF5': {'found': {}, 'source': {}, 'missing': ['W5', 'W6', 'W7']}, 'UF9': {'found': {}, 'source': {}, 'missing': ['W5', 'W6']}}, 'V6': {'UF3': {'found': {}, 'source': {}, 'missing': ['W2', 'W3', 'W4', 'W6']}}}\n"
     ]
    }
   ],
   "source": [
    "#remove duplicate items if they are not in satisfying_duplicate items list\n",
    "\n",
    "for space in found_dict.keys():\n",
    "    for system in found_dict[space].keys():\n",
    "        found_items = found_dict[space][system][\"found\"]\n",
    "        missing_items = found_dict[space][system][\"missing\"]\n",
    "        duplicate=list_duplicates(found_items)\n",
    "        for key, value in satisfying_duplicate.items():\n",
    "            for waste in value.keys():\n",
    "                if key==space:\n",
    "                    for found in found_items:\n",
    "                        if found in duplicate:\n",
    "                            print(\"duplicate\",space,found,system)\n",
    "                            if satisfying_duplicate[space][found]==[]:\n",
    "                                print(\"duplicate not satisfying\",space,found,system)\n",
    "                                missing_items.append(found)\n",
    "                                found_items.remove(found) \n",
    "            \n",
    "#remove duplicate items in missing list\n",
    "for space in found_dict.keys():\n",
    "    for system in found_dict[space].keys():\n",
    "       missing_items2 = found_dict[space][system][\"missing\"]   \n",
    "       duplicate=list_duplicates(missing_items2)\n",
    "       for missing in missing_items2:\n",
    "           if missing in duplicate:\n",
    "               missing_items2.remove(missing) \n",
    "\n",
    "print(found_dict)        "
   ]
  },
  {
   "cell_type": "code",
   "execution_count": 783,
   "metadata": {},
   "outputs": [
    {
     "name": "stdout",
     "output_type": "stream",
     "text": [
      "{'V1': {'UF3': {'found': ['W4', 'W6'], 'source': ['WO3', 'WO2'], 'missing': ['W2', 'W3'], 'circularity': 0.5}, 'UF8': {'found': ['W6'], 'source': ['WO6', 'WO7', 'WO2'], 'missing': ['W5'], 'circularity': 0.5}}, 'V4': {'UF4': {'found': ['W7'], 'source': ['WO8', 'WO9'], 'missing': ['W5', 'W6', 'W7'], 'circularity': 0.25}, 'UF5': {'found': ['W7'], 'source': ['WO8', 'WO9'], 'missing': ['W5', 'W6', 'W7'], 'circularity': 0.25}, 'UF9': {'found': {}, 'source': {}, 'missing': ['W5', 'W6'], 'circularity': 0.0}}, 'V5': {'UF4': {'found': {}, 'source': {}, 'missing': ['W5', 'W6', 'W7'], 'circularity': 0.0}, 'UF5': {'found': {}, 'source': {}, 'missing': ['W5', 'W6', 'W7'], 'circularity': 0.0}, 'UF9': {'found': {}, 'source': {}, 'missing': ['W5', 'W6'], 'circularity': 0.0}}, 'V6': {'UF3': {'found': {}, 'source': {}, 'missing': ['W2', 'W3', 'W4', 'W6'], 'circularity': 0.0}}}\n"
     ]
    }
   ],
   "source": [
    "#add circularity percentage to found_dict\n",
    "for space in found_dict:\n",
    "    for system in found_dict[space]:\n",
    "        found_dict[space][system][\"circularity\"]=[]\n",
    "        found=len(found_dict[space][system][\"found\"])\n",
    "        missing=len(found_dict[space][system][\"missing\"])\n",
    "        total=found+missing\n",
    "        found_dict[space][system][\"circularity\"]=found/total\n",
    "print(found_dict)   "
   ]
  },
  {
   "cell_type": "code",
   "execution_count": 784,
   "metadata": {},
   "outputs": [
    {
     "name": "stdout",
     "output_type": "stream",
     "text": [
      "{'V1': {'UF3': {'found': ['W4', 'W6'], 'source': ['WO3', 'WO2'], 'missing': ['W2', 'W3'], 'circularity': 0.5}, 'UF8': {'found': ['W6'], 'source': ['WO6', 'WO7', 'WO2'], 'missing': ['W5'], 'circularity': 0.5}}, 'V4': {'UF4': {'found': ['W7'], 'source': ['WO8', 'WO9'], 'missing': ['W5', 'W6', 'W7'], 'circularity': 0.25}, 'UF5': {'found': ['W7'], 'source': ['WO8', 'WO9'], 'missing': ['W5', 'W6', 'W7'], 'circularity': 0.25}, 'UF9': {'found': {}, 'source': {}, 'missing': ['W5', 'W6'], 'circularity': 0.0}}, 'V5': {'UF4': {'found': {}, 'source': {}, 'missing': ['W5', 'W6', 'W7'], 'circularity': 0.0}, 'UF5': {'found': {}, 'source': {}, 'missing': ['W5', 'W6', 'W7'], 'circularity': 0.0}, 'UF9': {'found': {}, 'source': {}, 'missing': ['W5', 'W6'], 'circularity': 0.0}}, 'V6': {'UF3': {'found': {}, 'source': {}, 'missing': ['W2', 'W3', 'W4', 'W6'], 'circularity': 0.0}}}\n"
     ]
    }
   ],
   "source": [
    "#make a duplicate of found dict, sort system based on circularities\n",
    "sorted_dict={}\n",
    "for space in found_dict:\n",
    "    system=sorted(found_dict[space], key=lambda x: (found_dict[space][x]['circularity']), reverse=True)  \n",
    "    sorted_dict[space]={} \n",
    "    for item in system:\n",
    "        # print(item,\"is item\",space)\n",
    "        values={}\n",
    "        values=(found_dict[space][item])\n",
    "        # print(space, item,\"is item\", values)\n",
    "        sorted_dict[space][item]=values\n",
    "\n",
    "print(sorted_dict)"
   ]
  },
  {
   "cell_type": "code",
   "execution_count": 785,
   "metadata": {},
   "outputs": [
    {
     "name": "stdout",
     "output_type": "stream",
     "text": [
      "looking for V1\n",
      "for V1 {'UF3': {'found': ['W4', 'W6'], 'source': ['WO3', 'WO2'], 'missing': ['W2', 'W3'], 'circularity': 0.5}, 'UF8': {'found': ['W6'], 'source': ['WO6', 'WO7', 'WO2'], 'missing': ['W5'], 'circularity': 0.5}} is possible\n",
      "looking for system UF3\n",
      "2 is length for V1 UF3\n",
      "V1 is not occupied run for UF3\n",
      "looking for system UF8\n",
      "1 is length for V1 UF8\n",
      "V1 is not occupied run for UF8\n",
      "one item UF8 V1\n",
      "Used Non Critical Source WO6\n",
      "one non critical missing items: V1 UF8 assign\n",
      "Used Non Critical Source WO7\n",
      "one non critical missing items: V1 UF8 assign\n",
      "Used Non Critical Source WO2\n",
      "one non critical missing items: V1 UF8 assign\n",
      "V1 UF8 will break\n",
      "looking for V4\n",
      "for V4 {'UF4': {'found': ['W7'], 'source': ['WO8', 'WO9'], 'missing': ['W5', 'W6', 'W7'], 'circularity': 0.25}, 'UF5': {'found': ['W7'], 'source': ['WO8', 'WO9'], 'missing': ['W5', 'W6', 'W7'], 'circularity': 0.25}, 'UF9': {'found': {}, 'source': {}, 'missing': ['W5', 'W6'], 'circularity': 0.0}} is possible\n",
      "looking for system UF4\n",
      "3 is length for V4 UF4\n",
      "V4 is not occupied run for UF4\n",
      "looking for system UF5\n",
      "3 is length for V4 UF5\n",
      "V4 is not occupied run for UF5\n",
      "looking for system UF9\n",
      "2 is length for V4 UF9\n",
      "V4 is not occupied run for UF9\n",
      "looking for V5\n",
      "for V5 {'UF4': {'found': {}, 'source': {}, 'missing': ['W5', 'W6', 'W7'], 'circularity': 0.0}, 'UF5': {'found': {}, 'source': {}, 'missing': ['W5', 'W6', 'W7'], 'circularity': 0.0}, 'UF9': {'found': {}, 'source': {}, 'missing': ['W5', 'W6'], 'circularity': 0.0}} is possible\n",
      "looking for system UF4\n",
      "3 is length for V5 UF4\n",
      "V5 is not occupied run for UF4\n",
      "looking for system UF5\n",
      "3 is length for V5 UF5\n",
      "V5 is not occupied run for UF5\n",
      "looking for system UF9\n",
      "2 is length for V5 UF9\n",
      "V5 is not occupied run for UF9\n",
      "looking for V6\n",
      "for V6 {'UF3': {'found': {}, 'source': {}, 'missing': ['W2', 'W3', 'W4', 'W6'], 'circularity': 0.0}} is possible\n",
      "looking for system UF3\n",
      "4 is length for V6 UF3\n",
      "V6 is not occupied run for UF3\n"
     ]
    }
   ],
   "source": [
    "occupied={}\n",
    "used_waste=[]\n",
    "used_waste_source=[]\n",
    "used_waste_source_temp=[]\n",
    "new_edges=[]\n",
    "occupied_dict={}\n",
    "\n",
    "for space in sorted_dict:\n",
    "    print(\"looking for\", space)\n",
    "    print(\"for\",space,sorted_dict[space],\"is possible\")\n",
    "    occupied_dict[space]={}\n",
    "    occupied_dict[space][\"system\"]={}\n",
    "    occupied_dict[space][\"found\"]={}\n",
    "    occupied_dict[space][\"source\"]={}\n",
    "    occupied_dict[space][\"missing\"]={}\n",
    "    for index,system in enumerate(sorted_dict[space]):\n",
    "        print(\"looking for system\", system)\n",
    "        occupied[space]={}\n",
    "        occupied[space][\"system\"]={}\n",
    "        found_list=sorted_dict[space][system][\"found\"]\n",
    "        sources_list=sorted_dict[space][system][\"source\"]\n",
    "        missing_list=sorted_dict[space][system][\"missing\"]\n",
    "        print(len(missing_list),\"is length for\",space,system)\n",
    "\n",
    "        if len(occupied[space][\"system\"])==0:\n",
    "            print(space,\"is not occupied run for\",system)\n",
    "            if len(missing_list)==0:    \n",
    "                for source in sources_list:\n",
    "                    if source in used_waste_source:\n",
    "                        print(used_waste_source,\"is used\",space,system)\n",
    "                        pass\n",
    "                    elif source not in used_waste_source:\n",
    "                        print(used_waste_source,\"is used\",space,system)\n",
    "                        occupied[space][\"system\"]=system\n",
    "                        occupied_dict[space][\"system\"]=system\n",
    "                        occupied_dict[space][\"found\"]=sorted_dict[space][system][\"found\"]\n",
    "                        occupied_dict[space][\"source\"]=sorted_dict[space][system][\"source\"]\n",
    "                        for items in found_list:\n",
    "                            used_waste.append(items)\n",
    "                        used_waste_source.append(source)\n",
    "                        edge_tuple=(source,space)\n",
    "                        new_edges.append(edge_tuple)\n",
    "                        print(\"no missing items:\", space, system, \"assign\")\n",
    "                if len(occupied[space][\"system\"])>0:\n",
    "                    print(space,system,\"will break\")        \n",
    "                    break\n",
    "        \n",
    "        if len(occupied[space][\"system\"])==0:\n",
    "            if len(missing_list)==1:\n",
    "                print(\"one item\",system,space)\n",
    "                for missing in missing_list:\n",
    "                    if missing in non_critical_items:\n",
    "                        for source in sources_list:\n",
    "                            if source not in used_waste_source:\n",
    "                                print(\"Used Non Critical Source\",source)\n",
    "                                occupied[space][\"system\"]=system\n",
    "                                occupied_dict[space][\"system\"]=system\n",
    "                                occupied_dict[space][\"found\"]=sorted_dict[space][system][\"found\"]\n",
    "                                occupied_dict[space][\"source\"]=sorted_dict[space][system][\"source\"]\n",
    "                                occupied_dict[space][\"missing\"]=sorted_dict[space][system][\"missing\"]\n",
    "                                for items in found_list:\n",
    "                                    used_waste.append(items)\n",
    "                                used_waste_source.append(source)\n",
    "                                edge_tuple=(source,space)\n",
    "                                new_edges.append(edge_tuple)\n",
    "                                print(\"one non critical missing items:\", space, system, \"assign\")\n",
    "                    else:\n",
    "                        print(space,\"critical item missing:\",missing,\"for\",system)\n",
    "                if len(occupied[space][\"system\"])>0:\n",
    "                    print(space,system,\"will break\")        \n",
    "                    break\n",
    "\n",
    "        if occupied[space][\"system\"]==0 :  \n",
    "            if len(missing_list)==2:\n",
    "                for missing in missing_list:\n",
    "                    if missing in non_critical_items:\n",
    "                        for source in sources_list:\n",
    "                            if source not in used_waste_source:\n",
    "                                print(\"Used Non Critical Source\",source)\n",
    "                                occupied[space][\"system\"]=system\n",
    "                                occupied_dict[space][\"system\"]=system\n",
    "                                occupied_dict[space][\"found\"]=sorted_dict[space][system][\"found\"]\n",
    "                                occupied_dict[space][\"source\"]=sorted_dict[space][system][\"source\"]\n",
    "                                occupied_dict[space][\"missing\"]=sorted_dict[space][system][\"missing\"]\n",
    "                                for items in found_list:\n",
    "                                    used_waste.append(items)\n",
    "                                print(\"two non critical missing items:\", space, system)\n",
    "                                used_waste_source.append(source)\n",
    "                                edge_tuple=(source,space)\n",
    "                                new_edges.append(edge_tuple)\n",
    "                    else:\n",
    "                        print(space,\"critical item missing:\",missing,\"for\",system)\n",
    "                if len(occupied[space][\"system\"])>0:\n",
    "                    print(space,system,\"will break\")        \n",
    "                    break  "
   ]
  },
  {
   "cell_type": "code",
   "execution_count": 786,
   "metadata": {},
   "outputs": [
    {
     "name": "stdout",
     "output_type": "stream",
     "text": [
      "{'V1': {'system': 'UF8', 'found': ['W6'], 'source': ['WO6', 'WO7', 'WO2'], 'missing': ['W5']}, 'V4': {'system': {}, 'found': {}, 'source': {}, 'missing': {}}, 'V5': {'system': {}, 'found': {}, 'source': {}, 'missing': {}}, 'V6': {'system': {}, 'found': {}, 'source': {}, 'missing': {}}}\n"
     ]
    }
   ],
   "source": [
    "# print(occupied)  \n",
    "\n",
    "# print(used_waste_source) \n",
    "# print(new_edges)\n",
    "  \n",
    "print(occupied_dict)"
   ]
  },
  {
   "cell_type": "code",
   "execution_count": 787,
   "metadata": {},
   "outputs": [
    {
     "name": "stdout",
     "output_type": "stream",
     "text": [
      "{'WO6': {'type': 'W5', 'size': 1, 'receiver': 'V1'}, 'WO7': {'type': 'W5', 'size': 1, 'receiver': 'V1'}, 'WO2': {'type': 'W6', 'size': 3, 'receiver': 'V1'}}\n"
     ]
    }
   ],
   "source": [
    "#make a dictionary of source: waste type: size: receiver:tuple\n",
    "network_dict={}\n",
    "for source,space in new_edges:\n",
    "    type_list=[]\n",
    "    network_dict[source]={}\n",
    "    network_dict[source][\"type\"]={}\n",
    "    network_dict[source][\"size\"]={}\n",
    "    network_dict[source][\"receiver\"]={}\n",
    "\n",
    "for source,space in new_edges:\n",
    "    network_dict[source][\"type\"]=wastes[source][\"type\"]\n",
    "    network_dict[source][\"size\"]=wastes[source][\"size\"]\n",
    "    network_dict[source][\"receiver\"]=space\n",
    "\n",
    "\n",
    "print(network_dict)"
   ]
  },
  {
   "cell_type": "code",
   "execution_count": 788,
   "metadata": {},
   "outputs": [
    {
     "name": "stdout",
     "output_type": "stream",
     "text": [
      "{'V1': {'system': 'UF8', 'found': ['W6'], 'source': ['WO6', 'WO7', 'WO2'], 'missing': ['W5'], 'circularity': 0.5, 'outputs': ['O1', 'W1', 'W7'], 'supplements': ['S2']}, 'V4': {'system': {}, 'found': {}, 'source': {}, 'missing': {}, 'circularity': {}, 'outputs': {}, 'supplements': {}}, 'V5': {'system': {}, 'found': {}, 'source': {}, 'missing': {}, 'circularity': {}, 'outputs': {}, 'supplements': {}}, 'V6': {'system': {}, 'found': {}, 'source': {}, 'missing': {}, 'circularity': {}, 'outputs': {}, 'supplements': {}}}\n"
     ]
    }
   ],
   "source": [
    "#add circularity & outputs to occupied_dict\n",
    "for space in occupied_dict:\n",
    "    occupied_dict[space][\"circularity\"]={}\n",
    "    occupied_dict[space][\"outputs\"]={}\n",
    "    occupied_dict[space][\"supplements\"]={}\n",
    "    if len(occupied_dict[space][\"system\"])!=0:\n",
    "        system=occupied_dict[space][\"system\"]\n",
    "        outputs=(uf_systems[system][\"out\"])\n",
    "        supplements=uf_systems[system][\"supplement\"]\n",
    "        occupied_dict[space][\"circularity\"]=found_dict[space][system][\"circularity\"]\n",
    "        occupied_dict[space][\"supplements\"]=supplements\n",
    "        occupied_dict[space][\"outputs\"]=outputs\n",
    "print(occupied_dict)"
   ]
  },
  {
   "cell_type": "code",
   "execution_count": 789,
   "metadata": {},
   "outputs": [
    {
     "name": "stdout",
     "output_type": "stream",
     "text": [
      "occupied {'V1': {'system': 'UF8', 'found': ['W6'], 'source': ['WO6', 'WO7', 'WO2'], 'missing': ['W5'], 'circularity': 0.5, 'outputs': ['O1', 'W1', 'W7'], 'supplements': ['S2']}}\n",
      "non occupied {'V4': {'UF4': {'found': ['W7'], 'source': ['WO8', 'WO9'], 'missing': ['W5', 'W6', 'W7'], 'circularity': 0.25}, 'UF5': {'found': ['W7'], 'source': ['WO8', 'WO9'], 'missing': ['W5', 'W6', 'W7'], 'circularity': 0.25}, 'UF9': {'found': {}, 'source': {}, 'missing': ['W5', 'W6'], 'circularity': 0.0}}, 'V5': {'UF4': {'found': {}, 'source': {}, 'missing': ['W5', 'W6', 'W7'], 'circularity': 0.0}, 'UF5': {'found': {}, 'source': {}, 'missing': ['W5', 'W6', 'W7'], 'circularity': 0.0}, 'UF9': {'found': {}, 'source': {}, 'missing': ['W5', 'W6'], 'circularity': 0.0}}, 'V6': {'UF3': {'found': {}, 'source': {}, 'missing': ['W2', 'W3', 'W4', 'W6'], 'circularity': 0.0}}}\n"
     ]
    }
   ],
   "source": [
    "#remove empty spaces from occupied_dict\n",
    "remove=[]\n",
    "for space in occupied_dict:\n",
    "    if len(occupied_dict[space][\"system\"])==0:\n",
    "        remove.append(space)\n",
    "for items in remove:\n",
    "    occupied_dict.pop(items)\n",
    "print(\"occupied\",occupied_dict)\n",
    "\n",
    "#remove assigned spaces from found_dict\n",
    "remove2=[]\n",
    "for space in found_dict:\n",
    "    if space in occupied_dict:\n",
    "        # print(space)\n",
    "        remove2.append(space)\n",
    "# print(remove2)\n",
    "for items in remove2:\n",
    "    found_dict.pop(items)\n",
    "print(\"non occupied\",found_dict)"
   ]
  },
  {
   "cell_type": "code",
   "execution_count": 790,
   "metadata": {},
   "outputs": [
    {
     "name": "stdout",
     "output_type": "stream",
     "text": [
      "maybe V1 UF2\n",
      "{'V1': {'fs_system': 'UF2'}}\n"
     ]
    }
   ],
   "source": [
    "#look for a system that can supply needed supplement\n",
    "#put the findings in a dictionary\n",
    "v_supplement_fs={}\n",
    "for space in occupied_dict:\n",
    "    v_supplement_fs[space]={}\n",
    "    v_supplement_fs[space][\"fs_system\"]={}\n",
    "    supplement=occupied_dict[space][\"supplements\"]\n",
    "    # print(supplement)\n",
    "    if supplement!=None:\n",
    "        for item in supplement:\n",
    "            if item==\"S2\":\n",
    "                for i in uf_systems:\n",
    "                    out=uf_systems[i][\"out\"]\n",
    "                    if \"S2\" in out:\n",
    "                        print(\"maybe\",space, i)\n",
    "                        v_supplement_fs[space][\"fs_system\"]=i\n",
    "    else:\n",
    "        v_supplement_fs[space][\"fs_system\"]=None\n",
    "print(v_supplement_fs)"
   ]
  },
  {
   "cell_type": "code",
   "execution_count": 791,
   "metadata": {},
   "outputs": [
    {
     "name": "stdout",
     "output_type": "stream",
     "text": [
      "{'V1': {'system': 'UF8'}, 'V4': {'system': {}}, 'V5': {'system': {}}, 'V6': {'system': {}}}\n"
     ]
    }
   ],
   "source": [
    "#make a list of vacant spaces and their waste neighbors\n",
    "nonoccupied_neighbors={}\n",
    "for space in vacant_spaces:\n",
    "    waste_source=[]\n",
    "    for space,waste in nearby_waste:\n",
    "        if (space not in occupied_dict) or (space in found_dict):\n",
    "            nonoccupied_neighbors[space]={}\n",
    "            # print(space, waste)\n",
    "            waste_source.append(waste)\n",
    "            nonoccupied_neighbors[space]=waste_source\n",
    "# print(nonoccupied_neighbors)\n",
    "\n",
    "print(occupied)"
   ]
  },
  {
   "cell_type": "code",
   "execution_count": 792,
   "metadata": {},
   "outputs": [
    {
     "name": "stdout",
     "output_type": "stream",
     "text": [
      "V1\n",
      "UF2 for V1\n",
      "V2 is neighbor of V1\n",
      "V2 is not occupied food\n",
      "V2 size ok\n",
      "V2 structure&solar ok\n",
      "WO5 is neighbor of V2 not used\n",
      "WO5 has ['W7'] for V2 to supplement V1\n",
      "WO8 is neighbor of V2 not used\n",
      "V2 is already occupied\n",
      "WO9 is neighbor of V2 not used\n",
      "V2 is already occupied\n",
      "WO8 is neighbor of V2 not used\n",
      "V2 is already occupied\n",
      "WO8 is neighbor of V2 not used\n",
      "V2 is already occupied\n",
      "WO9 is neighbor of V2 not used\n",
      "V2 is already occupied\n",
      "WO8 is neighbor of V2 not used\n",
      "V2 is already occupied\n",
      "WO9 is neighbor of V2 not used\n",
      "V2 is already occupied\n",
      "V3 is neighbor of V1\n",
      "V3 is not occupied food\n",
      "V3 size ok\n",
      "V3 structure&solar ok\n",
      "WO8 is neighbor of V3 not used\n",
      "WO8 has ['W7'] for V3 to supplement V1\n",
      "WO9 is neighbor of V3 not used\n",
      "V3 is already occupied\n",
      "WO9 is neighbor of V3 not used\n",
      "V3 is already occupied\n",
      "WO9 is neighbor of V3 not used\n",
      "V3 is already occupied\n",
      "V3 is neighbor of V6\n",
      "V3 is not occupied food\n",
      "V3 is neighbor of V2\n",
      "V3 is not occupied food\n",
      "V3 size ok\n",
      "V3 structure&solar ok\n",
      "WO9 is neighbor of V3 not used\n",
      "WO9 has ['W7'] for V3 to supplement V2\n",
      "['WO6', 'WO7', 'WO2', 'WO5', 'WO8', 'WO9']\n",
      "{'V1': {'V3': {'system': 'UF2', 'found': 'W7', 'source': 'WO8'}}, 'V6': {'V3': {'system': {}, 'found': {}, 'source': {}}}, 'V2': {'V3': {'system': 'UF2', 'found': 'W7', 'source': 'WO9'}}}\n"
     ]
    }
   ],
   "source": [
    "supplement_dict={}\n",
    "for space in v_supplement_fs:\n",
    "        print(space)\n",
    "        system = v_supplement_fs[space][\"fs_system\"]\n",
    "        print(system, \"for\", space)\n",
    "        if system!=None:\n",
    "            for space,neighbor in nearby_space:\n",
    "                print(neighbor,\"is neighbor of\",space)\n",
    "                supplement_dict[space]={}\n",
    "                supplement_dict[space][neighbor]={}\n",
    "                supplement_dict[space][neighbor][\"system\"]={}\n",
    "                supplement_dict[space][neighbor][\"found\"]={}\n",
    "                supplement_dict[space][neighbor][\"source\"]={}\n",
    "                if neighbor not in occupied_dict:\n",
    "                    print(neighbor,\"is not occupied food\")\n",
    "                    if vacant_spaces[neighbor][\"size\"]==vacant_spaces[space][\"size\"]:\n",
    "                        print(neighbor,\"size ok\")\n",
    "                        if (vacant_spaces[neighbor][\"structure\"]>= uf_systems[system][\"weight\"]) and (vacant_spaces[neighbor][\"solar\"]>= uf_systems[system][\"solar\"]):\n",
    "                            print(neighbor,\"structure&solar ok\")\n",
    "                            if neighbor in nonoccupied_neighbors:\n",
    "                                for waste_neigh in nonoccupied_neighbors[neighbor]:\n",
    "                                    # print(len(supplement_dict[neighbor][\"system\"])\n",
    "                                        if waste_neigh not in used_waste_source:\n",
    "                                            print(waste_neigh,\"is neighbor of\",neighbor,\"not used\")\n",
    "                                            for item in uf_systems[system][\"in\"]:\n",
    "                                                if wastes[waste_neigh][\"type\"]==item:\n",
    "                                                    if len(supplement_dict[space][neighbor][\"system\"])==0:\n",
    "                                                        used_waste_source.append(waste_neigh)\n",
    "                                                        print(waste_neigh,\"has\",uf_systems[system][\"in\"],\"for\",neighbor,\"to supplement\",space)\n",
    "                                                        supplement_dict[space][neighbor][\"system\"]=system\n",
    "                                                        supplement_dict[space][neighbor][\"found\"]=wastes[waste_neigh][\"type\"]\n",
    "                                                        supplement_dict[space][neighbor][\"source\"]=waste_neigh\n",
    "                                                    else:\n",
    "                                                        print(neighbor,\"is already occupied\")\n",
    "                                                        break\n",
    "    \n",
    "print(used_waste_source)                            \n",
    "print(supplement_dict)                        "
   ]
  },
  {
   "cell_type": "code",
   "execution_count": null,
   "metadata": {},
   "outputs": [],
   "source": []
  }
 ],
 "metadata": {
  "interpreter": {
   "hash": "ceab667343e9d59e560dc535b596d8ce99779dfe6a9fc32021184bc08a53fa46"
  },
  "kernelspec": {
   "display_name": "Python 3.8.5 ('earthy')",
   "language": "python",
   "name": "python3"
  },
  "language_info": {
   "codemirror_mode": {
    "name": "ipython",
    "version": 3
   },
   "file_extension": ".py",
   "mimetype": "text/x-python",
   "name": "python",
   "nbconvert_exporter": "python",
   "pygments_lexer": "ipython3",
   "version": "3.8.5"
  },
  "orig_nbformat": 4
 },
 "nbformat": 4,
 "nbformat_minor": 2
}
